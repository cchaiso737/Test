{
 "cells": [
  {
   "cell_type": "markdown",
   "id": "8035b96f-144b-4ff0-9f57-8a9041535654",
   "metadata": {},
   "source": [
    "# Data Science Tools and Ecosystem"
   ]
  },
  {
   "cell_type": "markdown",
   "id": "4079b980-6c28-4363-b0ee-ba2e63c27ef1",
   "metadata": {},
   "source": [
    "In this notebook, Data Science Tools and Ecosystem are summarized."
   ]
  },
  {
   "cell_type": "markdown",
   "id": "e1ecd6a2-773a-4e1f-8820-5002f46ccdfc",
   "metadata": {},
   "source": [
    "__Objectives:__\n",
    "* List popular languages for Data Science\n",
    "* Learn how to create a table\n",
    "* Practice basic calculations in Jupyter Notebook"
   ]
  },
  {
   "cell_type": "markdown",
   "id": "b795d657-5dd8-4219-ac1d-5d3dc78a5730",
   "metadata": {},
   "source": [
    "Some of the popular languages that Data Scientists use are:\n",
    "1. Python\n",
    "2. R\n",
    "3. Julia\n",
    "4. Java"
   ]
  },
  {
   "cell_type": "markdown",
   "id": "15bbeaae-3377-46ad-8f53-781b6a604de2",
   "metadata": {},
   "source": [
    "Some of the commonly used libraries used by Data Scientists include:\n",
    "1. NumPy\n",
    "2. Pandas\n",
    "3. ggplot2\n",
    "4. ggraph"
   ]
  },
  {
   "cell_type": "markdown",
   "id": "fa7168f4-4d72-43ec-8ada-b45dfeeaf24f",
   "metadata": {},
   "source": [
    "| Data Science Tools |\n",
    "| -------------------|\n",
    "| RStudio|\n",
    "| Jupyter Notebook|\n",
    "| TensorFlow|\n"
   ]
  },
  {
   "cell_type": "markdown",
   "id": "17641405-6e77-4f28-afd0-244c0a7d03fa",
   "metadata": {},
   "source": [
    "### Below are a few examples of evaluating arithmetic expressions in Python"
   ]
  },
  {
   "cell_type": "code",
   "execution_count": 2,
   "id": "c033e03c-af9b-4c4c-b702-4cbe21ce340e",
   "metadata": {},
   "outputs": [
    {
     "data": {
      "text/plain": [
       "17"
      ]
     },
     "execution_count": 2,
     "metadata": {},
     "output_type": "execute_result"
    }
   ],
   "source": [
    "#This is a simple arithmetic expression to multiply then add integers\n",
    "(3*4)+5"
   ]
  },
  {
   "cell_type": "code",
   "execution_count": 3,
   "id": "b6862917-b655-4ecc-8e22-8dee9d5bd4c2",
   "metadata": {},
   "outputs": [
    {
     "data": {
      "text/plain": [
       "3.3333333333333335"
      ]
     },
     "execution_count": 3,
     "metadata": {},
     "output_type": "execute_result"
    }
   ],
   "source": [
    "#This will convert 200 minutes to hours by dividing by 60\n",
    "200/60"
   ]
  },
  {
   "cell_type": "markdown",
   "id": "099bd4c1-b5e8-48bd-918f-7cfa42b1824a",
   "metadata": {},
   "source": [
    "## Author\n",
    "Ben H."
   ]
  },
  {
   "cell_type": "code",
   "execution_count": null,
   "id": "920fdfd7-bfe2-49cd-8d44-07bd1407605b",
   "metadata": {},
   "outputs": [],
   "source": []
  }
 ],
 "metadata": {
  "kernelspec": {
   "display_name": "Python 3 (ipykernel)",
   "language": "python",
   "name": "python3"
  },
  "language_info": {
   "codemirror_mode": {
    "name": "ipython",
    "version": 3
   },
   "file_extension": ".py",
   "mimetype": "text/x-python",
   "name": "python",
   "nbconvert_exporter": "python",
   "pygments_lexer": "ipython3",
   "version": "3.12.8"
  }
 },
 "nbformat": 4,
 "nbformat_minor": 5
}
